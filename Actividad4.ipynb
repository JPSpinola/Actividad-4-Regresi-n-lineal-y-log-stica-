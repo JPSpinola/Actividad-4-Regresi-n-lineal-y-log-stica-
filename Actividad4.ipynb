{
  "nbformat": 4,
  "nbformat_minor": 0,
  "metadata": {
    "colab": {
      "provenance": [],
      "include_colab_link": true
    },
    "kernelspec": {
      "name": "python3",
      "display_name": "Python 3"
    },
    "language_info": {
      "name": "python"
    }
  },
  "cells": [
    {
      "cell_type": "markdown",
      "metadata": {
        "id": "view-in-github",
        "colab_type": "text"
      },
      "source": [
        "<a href=\"https://colab.research.google.com/github/JPSpinola/Actividad-4-Regresi-n-lineal-y-log-stica-/blob/main/Actividad4.ipynb\" target=\"_parent\"><img src=\"https://colab.research.google.com/assets/colab-badge.svg\" alt=\"Open In Colab\"/></a>"
      ]
    },
    {
      "cell_type": "code",
      "execution_count": 1,
      "metadata": {
        "id": "InHb6R_IItg6"
      },
      "outputs": [],
      "source": [
        "#Importamos las librerias pandas, numpy y matplotlib respectivamente\n",
        "import pandas as pd\n",
        "import numpy as np\n",
        "import matplotlib.pyplot as plt\n",
        "import scipy.special as special\n",
        "from scipy.optimize import curve_fit\n",
        "import seaborn as sns\n",
        "from sklearn.metrics import r2_score\n",
        "from sklearn.model_selection import train_test_split\n",
        "from sklearn.preprocessing import StandardScaler"
      ]
    },
    {
      "cell_type": "code",
      "source": [
        "#Cargar archivo csv desde equipo\n",
        "from google.colab import files\n",
        "files.upload()"
      ],
      "metadata": {
        "id": "4THscbQuJyXX"
      },
      "execution_count": null,
      "outputs": []
    },
    {
      "cell_type": "code",
      "source": [
        "#Carga desde un archivo .csv sin indice\n",
        "Retailer= pd.read_excel('microretailer_mit_lift_lab_actualizado.xlsx')"
      ],
      "metadata": {
        "id": "GKi-jPhEJ0bQ"
      },
      "execution_count": 3,
      "outputs": []
    },
    {
      "cell_type": "code",
      "source": [
        "#Verificamos información del Dataframe\n",
        "Retailer.info()"
      ],
      "metadata": {
        "id": "j1g9wdrlJ2Ya"
      },
      "execution_count": null,
      "outputs": []
    },
    {
      "cell_type": "code",
      "source": [
        "#Creamos copia del dataframe\n",
        "data1=Retailer.copy()\n",
        "data1"
      ],
      "metadata": {
        "id": "mK9JBnm8J4BK"
      },
      "execution_count": null,
      "outputs": []
    },
    {
      "cell_type": "markdown",
      "source": [
        "**PREPROCESAMIENTO DE DATOS**"
      ],
      "metadata": {
        "id": "4mCoFssnLG5r"
      }
    },
    {
      "cell_type": "markdown",
      "source": [
        "**Valores nulos**"
      ],
      "metadata": {
        "id": "99Eq66S4LJzK"
      }
    },
    {
      "cell_type": "code",
      "source": [
        "#Identificar valores nulos por columna\n",
        "valores_nulos=data1.isnull().sum()\n",
        "valores_nulos"
      ],
      "metadata": {
        "id": "m358x3FjJ7LV"
      },
      "execution_count": null,
      "outputs": []
    },
    {
      "cell_type": "code",
      "source": [
        "#Realizamos una copia del dataframe\n",
        "data2=data1.copy()"
      ],
      "metadata": {
        "id": "Jt-nbyuSJ7-E"
      },
      "execution_count": 7,
      "outputs": []
    },
    {
      "cell_type": "code",
      "source": [
        "#Utilizamos un metodo con el que sustituimos los valores nulos que esten por detras de valores no nulos por ese mismo valor\n",
        "data2= data1.fillna(method=\"bfill\")\n",
        "data2"
      ],
      "metadata": {
        "id": "kDZvV_TMJ8Av"
      },
      "execution_count": null,
      "outputs": []
    },
    {
      "cell_type": "code",
      "source": [
        "#Corroboramos valores nulos\n",
        "valores_nulos=data2.isnull().sum()\n",
        "valores_nulos"
      ],
      "metadata": {
        "id": "rft-kDQhJ8C-"
      },
      "execution_count": null,
      "outputs": []
    },
    {
      "cell_type": "code",
      "source": [
        "#Debido a que todavia nos quedan unos cuantos valores nulos en el dataframe, utilizamos el metodo \"ffill\" para cambiar los valores nulos que esten delante de un valore no nulo para cambiarlo por el mismo valor\n",
        "data3= data2.fillna(method='ffill')\n",
        "data3"
      ],
      "metadata": {
        "id": "56LdWtReJ8FY"
      },
      "execution_count": null,
      "outputs": []
    },
    {
      "cell_type": "code",
      "source": [
        "#Corroboramos valores nulos\n",
        "valores_nulos=data3.isnull().sum()\n",
        "valores_nulos"
      ],
      "metadata": {
        "id": "jcFTHFqMJ8H5"
      },
      "execution_count": null,
      "outputs": []
    },
    {
      "cell_type": "code",
      "source": [
        "#En caso de que resten unos cuantos valores nulos en el dataframe, utilizamos el metodo de cambiar los valores nulos por un string en concreto para seguridad\n",
        "data4= data3.fillna('no valido')\n",
        "data4"
      ],
      "metadata": {
        "id": "w-QIequwJ8K2"
      },
      "execution_count": null,
      "outputs": []
    },
    {
      "cell_type": "markdown",
      "source": [
        "**Outliers**"
      ],
      "metadata": {
        "id": "wmD1SOD5LOO0"
      }
    },
    {
      "cell_type": "code",
      "source": [
        "#Creamos otra copia del dataframe\n",
        "data5=data4.copy()"
      ],
      "metadata": {
        "id": "kkMF99XoKGO9"
      },
      "execution_count": 13,
      "outputs": []
    },
    {
      "cell_type": "code",
      "source": [
        "#Realizamos un filtro por filas donde se incluyan unicamente los valores cuantitativos\n",
        "cuantitativas=data5.iloc[:,[13,14,16,21,22,29,31,33,42,49,51,56,57,58,59,60,78,90]] #filas no consecutivas\n",
        "cuantitativas"
      ],
      "metadata": {
        "id": "dc88322tKGRr"
      },
      "execution_count": null,
      "outputs": []
    },
    {
      "cell_type": "code",
      "source": [
        "#Realizamos un filtro por filas donde se incluyan unicamente los valores cualitativas\n",
        "cualitativas=data2.iloc[:,[0,1,2,3,4,5,6,7,8,9,10,11,12,15,17,18,19,20,23,24,25,26,27,28,30,32,34,35,36,37,38,39,40,41,42,43,44,45,46,47,48,50,52,53,54,55,61,62,63,64,65,66,67,68,69,70,71,72,73,74,75,76,77,79,80,81,82,83,84,85,86,87,88,89,91,92,93,94,95,96,97,98,99,100,101,102,103,104,105]] #filas no consecutivas\n",
        "cualitativas"
      ],
      "metadata": {
        "id": "wsy8xNShKGUC"
      },
      "execution_count": null,
      "outputs": []
    },
    {
      "cell_type": "code",
      "source": [
        "#Corroboramos valores nulos\n",
        "valores_nulos=cuantitativas.isnull().sum()\n",
        "valores_nulos"
      ],
      "metadata": {
        "id": "Lz69qz3IKGWx"
      },
      "execution_count": null,
      "outputs": []
    },
    {
      "cell_type": "code",
      "source": [
        "#Aplicanmos desviación estandar para encontrar valores extremos\n",
        "y=cuantitativas\n",
        "Limite_Superior= y.mean() +3*y.std()\n",
        "Limite_Inferior= y.mean() -3*y.std()\n",
        "print(\"Limite superior permitido\", Limite_Superior)\n",
        "print(\"Limite inferior permitido\", Limite_Inferior)"
      ],
      "metadata": {
        "id": "xyyflkUuKGZc"
      },
      "execution_count": null,
      "outputs": []
    },
    {
      "cell_type": "code",
      "source": [
        "#Encontramos Outliers del Dataframe\n",
        "outliers= cuantitativas[(y>Limite_Superior)|(y<Limite_Inferior)]\n",
        "outliers"
      ],
      "metadata": {
        "id": "1HeJnPZdKGb3"
      },
      "execution_count": null,
      "outputs": []
    },
    {
      "cell_type": "code",
      "source": [
        "#Obtenemos datos limpios\n",
        "data5= cuantitativas[(y<=Limite_Superior)&(y>=Limite_Inferior)]\n",
        "data5"
      ],
      "metadata": {
        "id": "wPhZAy2dKRfG"
      },
      "execution_count": null,
      "outputs": []
    },
    {
      "cell_type": "code",
      "source": [
        "#Revisamos valores atípicos (nulos) del dataframe4\n",
        "valores_nulos=data5.isnull().sum()\n",
        "valores_nulos"
      ],
      "metadata": {
        "id": "Jd5lptSsKRhk"
      },
      "execution_count": null,
      "outputs": []
    },
    {
      "cell_type": "code",
      "source": [
        "#Reemplazamos valores atípicos (nulos) del dataframe con \"mean\"\n",
        "#Realizamos una copia del dataframe\n",
        "data_clean=data5.copy()\n",
        "data_clean=data_clean.fillna(round(data3.mean(),1))\n",
        "data_clean"
      ],
      "metadata": {
        "id": "x8OHOyTMKRkL"
      },
      "execution_count": null,
      "outputs": []
    },
    {
      "cell_type": "code",
      "source": [
        "#Corroboramos valores nulos del dataframe LIMPIO\n",
        "valores_nulos=data_clean.isnull().sum()\n",
        "valores_nulos"
      ],
      "metadata": {
        "id": "d1jiQ_5sKRmj"
      },
      "execution_count": null,
      "outputs": []
    },
    {
      "cell_type": "code",
      "source": [
        "#Unimos las columnas cuantitativas y cualitativas en un mismo dataframe\n",
        "Datos_limpios = pd.concat([cualitativas, data_clean], axis=1)\n",
        "Datos_limpios"
      ],
      "metadata": {
        "id": "7JiU3zliKRpC"
      },
      "execution_count": null,
      "outputs": []
    },
    {
      "cell_type": "code",
      "source": [
        "#Convertir Dataframe a CSV\n",
        "Datos_limpios.to_csv(\"Datos_limpios_Micro_retailer_actualizado.csv\")"
      ],
      "metadata": {
        "id": "1hzAHG6VKaDt"
      },
      "execution_count": 24,
      "outputs": []
    },
    {
      "cell_type": "code",
      "source": [
        "#descargar archivo filtrado en csv\n",
        "from google.colab import files\n",
        "\n",
        "files.download(\"Datos_limpios_Micro_retailer_actualizado.csv\")"
      ],
      "metadata": {
        "id": "QQt9AS_MKaGY"
      },
      "execution_count": null,
      "outputs": []
    },
    {
      "cell_type": "markdown",
      "source": [
        "**ACTIVIDAD 4**"
      ],
      "metadata": {
        "id": "DzSs7uZ9LYuU"
      }
    },
    {
      "cell_type": "markdown",
      "source": [
        "**Regresión lineal**"
      ],
      "metadata": {
        "id": "pM7-nzWoK0IU"
      }
    },
    {
      "cell_type": "code",
      "source": [
        "#Cargar archivo csv desde equipo\n",
        "from google.colab import files\n",
        "files.upload()"
      ],
      "metadata": {
        "id": "GGtgbEniLeq8"
      },
      "execution_count": null,
      "outputs": []
    },
    {
      "cell_type": "code",
      "source": [
        "#Carga desde un archivo .csv sin indice\n",
        "df= pd.read_csv('Datos_limpios_Micro_retailer_actualizado.csv')"
      ],
      "metadata": {
        "id": "SQA8sF_JM01u"
      },
      "execution_count": 27,
      "outputs": []
    },
    {
      "cell_type": "markdown",
      "source": [
        "1"
      ],
      "metadata": {
        "id": "8P1K99aaaTdt"
      }
    },
    {
      "cell_type": "code",
      "source": [
        "#Se grafican mapas de dispersion de las 3 variables: '97_number_of_customers_in_store', '2_current_permanent_employees' y '145_number_direct_competitors'\n",
        "from turtle import color\n",
        "\n",
        "sns.scatterplot(x='103_number_own_fridges', y='268_number_fridges', color='blue', data=df)\n",
        "sns.scatterplot(x='172_supplier_frequency', y='268_number_fridges', color='red', data=df)\n",
        "sns.scatterplot(x='145_number_direct_competitors', y='268_number_fridges', color='yellow', data=df)"
      ],
      "metadata": {
        "id": "GaIF7akQL-xO"
      },
      "execution_count": null,
      "outputs": []
    },
    {
      "cell_type": "code",
      "source": [
        "#Declaramos las variables dependientes e independientes para la regresión lineal.\n",
        "#Vars_Indep= df[['alcohol', 'speeding', 'no_previous']]\n",
        "Vars_Indep= df[['103_number_own_fridges', '172_supplier_frequency', '145_number_direct_competitors']]\n",
        "Var_Dep= df['268_number_fridges']"
      ],
      "metadata": {
        "id": "T1xiVvGRL-4x"
      },
      "execution_count": 29,
      "outputs": []
    },
    {
      "cell_type": "code",
      "source": [
        "#Se define model como la función de regresión lineal\n",
        "from sklearn.linear_model import LinearRegression\n",
        "model= LinearRegression()"
      ],
      "metadata": {
        "id": "XCwyluIjL-8N"
      },
      "execution_count": 30,
      "outputs": []
    },
    {
      "cell_type": "code",
      "source": [
        "#Verificamos la funcion relacionada al modelo\n",
        "type(model)"
      ],
      "metadata": {
        "id": "Wj_vXrKQRI6A"
      },
      "execution_count": null,
      "outputs": []
    },
    {
      "cell_type": "code",
      "source": [
        "#Ajustamos el modelo con las variables antes declaradas\n",
        "model.fit(X=Vars_Indep, y=Var_Dep)"
      ],
      "metadata": {
        "id": "xTszXUyaRI82"
      },
      "execution_count": null,
      "outputs": []
    },
    {
      "cell_type": "code",
      "source": [
        "#Verificamos los coeficientes obtenidos para el modelo ajustado\n",
        "model.__dict__"
      ],
      "metadata": {
        "id": "RyUqpchSRI_W"
      },
      "execution_count": null,
      "outputs": []
    },
    {
      "cell_type": "code",
      "source": [
        "#Evaluamos la eficiencia del modelo obtenido por medio del coeficiente R^2 Determinación\n",
        "model.score(Vars_Indep,Var_Dep)"
      ],
      "metadata": {
        "id": "6uju5tKtRJB4"
      },
      "execution_count": null,
      "outputs": []
    },
    {
      "cell_type": "code",
      "source": [
        "#Predecimos los valores de total de accidentes a partir de las variables: 'alcohol', 'speeding' y 'no_previous' \n",
        "y_pred= model.predict(X=df[['103_number_own_fridges', '172_supplier_frequency', '145_number_direct_competitors']])\n",
        "y_pred"
      ],
      "metadata": {
        "id": "I0vZ_5ALRW8S"
      },
      "execution_count": null,
      "outputs": []
    },
    {
      "cell_type": "code",
      "source": [
        "#Insertamos la columna de predicciones en el Dataframe\n",
        "df.insert(0, 'Predicciones', y_pred)\n",
        "df"
      ],
      "metadata": {
        "id": "x3g0lv3sRW_V"
      },
      "execution_count": null,
      "outputs": []
    },
    {
      "cell_type": "code",
      "source": [
        "#Visualizamos la gráfica comparativa entre el total real y el total predecido\n",
        "\n",
        "sns.scatterplot(x= '103_number_own_fridges', y= '268_number_fridges', color= 'blue', data=df)\n",
        "sns.scatterplot(x= '103_number_own_fridges', y= 'Predicciones', color= 'red', data=df)"
      ],
      "metadata": {
        "id": "sXjPC1tBRXCT"
      },
      "execution_count": null,
      "outputs": []
    },
    {
      "cell_type": "code",
      "source": [
        "#Visualizamos la gráfica comparativa entre el total real y el total predecido\n",
        "\n",
        "sns.scatterplot(x= '172_supplier_frequency', y= '268_number_fridges', color= 'blue', data=df)\n",
        "sns.scatterplot(x= '172_supplier_frequency', y= 'Predicciones', color= 'red', data=df)"
      ],
      "metadata": {
        "id": "YDEuUapjRXE_"
      },
      "execution_count": null,
      "outputs": []
    },
    {
      "cell_type": "code",
      "source": [
        "#Visualizamos la gráfica comparativa entre el total real y el total predecido\n",
        "\n",
        "sns.scatterplot(x= '145_number_direct_competitors', y= '268_number_fridges', color= 'blue', data=df)\n",
        "sns.scatterplot(x= '145_number_direct_competitors', y= 'Predicciones', color= 'red', data=df)"
      ],
      "metadata": {
        "id": "Qh1AUdQkRzgG"
      },
      "execution_count": null,
      "outputs": []
    },
    {
      "cell_type": "code",
      "source": [
        "#Corroboramos cual es el coeficiente de Determinación de nuestro modelo\n",
        "coef_Deter=model.score(X=Vars_Indep, y=Var_Dep)\n",
        "coef_Deter"
      ],
      "metadata": {
        "id": "aJRE4016SIlt"
      },
      "execution_count": null,
      "outputs": []
    },
    {
      "cell_type": "code",
      "source": [
        "#Corroboramos cual es el coeficiente de Correlación de nuestro modelo\n",
        "coef_Correl=np.sqrt(coef_Deter)\n",
        "coef_Correl"
      ],
      "metadata": {
        "id": "5DAM-daXSIoX"
      },
      "execution_count": null,
      "outputs": []
    },
    {
      "cell_type": "markdown",
      "source": [
        "2"
      ],
      "metadata": {
        "id": "xqgKlec7bStN"
      }
    },
    {
      "cell_type": "code",
      "source": [
        "#Se grafican mapas de dispersion de las 3 variables: '97_number_of_customers_in_store', '2_current_permanent_employees' y '145_number_direct_competitors'\n",
        "from turtle import color\n",
        "\n",
        "sns.scatterplot(x='103_number_own_fridges', y='268_number_fridges', color='blue', data=df)\n",
        "sns.scatterplot(x='172_supplier_frequency', y='268_number_fridges', color='red', data=df)\n",
        "sns.scatterplot(x='97_number_of_customers_in_store', y='268_number_fridges', color='yellow', data=df)"
      ],
      "metadata": {
        "id": "P0LGCB6ubUYV"
      },
      "execution_count": null,
      "outputs": []
    },
    {
      "cell_type": "code",
      "source": [
        "#Declaramos las variables dependientes e independientes para la regresión lineal.\n",
        "#Vars_Indep= df[['alcohol', 'speeding', 'no_previous']]\n",
        "Vars_Indep= df[['103_number_own_fridges', '172_supplier_frequency', '97_number_of_customers_in_store']]\n",
        "Var_Dep= df['268_number_fridges']"
      ],
      "metadata": {
        "id": "EnX0LgUycFBt"
      },
      "execution_count": 43,
      "outputs": []
    },
    {
      "cell_type": "code",
      "source": [
        "#Se define model como la función de regresión lineal\n",
        "from sklearn.linear_model import LinearRegression\n",
        "model= LinearRegression()"
      ],
      "metadata": {
        "id": "8y8TlJPDcGud"
      },
      "execution_count": 44,
      "outputs": []
    },
    {
      "cell_type": "code",
      "source": [
        "#Verificamos la funcion relacionada al modelo\n",
        "type(model)"
      ],
      "metadata": {
        "id": "CPMvlCq1cIPa"
      },
      "execution_count": null,
      "outputs": []
    },
    {
      "cell_type": "code",
      "source": [
        "#Ajustamos el modelo con las variables antes declaradas\n",
        "model.fit(X=Vars_Indep, y=Var_Dep)"
      ],
      "metadata": {
        "id": "Wz9W_uqFcJzX"
      },
      "execution_count": null,
      "outputs": []
    },
    {
      "cell_type": "code",
      "source": [
        "#Verificamos los coeficientes obtenidos para el modelo ajustado\n",
        "model.__dict__"
      ],
      "metadata": {
        "id": "IFHW-M_xcOa9"
      },
      "execution_count": null,
      "outputs": []
    },
    {
      "cell_type": "code",
      "source": [
        "#Evaluamos la eficiencia del modelo obtenido por medio del coeficiente R^2 Determinación\n",
        "model.score(Vars_Indep,Var_Dep)"
      ],
      "metadata": {
        "id": "HWtzIQ0McPym"
      },
      "execution_count": null,
      "outputs": []
    },
    {
      "cell_type": "code",
      "source": [
        "#Predecimos los valores de total de accidentes a partir de las variables: 'alcohol', 'speeding' y 'no_previous' \n",
        "y_pred= model.predict(X=df[['103_number_own_fridges', '172_supplier_frequency', '97_number_of_customers_in_store']])\n",
        "y_pred"
      ],
      "metadata": {
        "id": "dY_LKYPUcSeP"
      },
      "execution_count": null,
      "outputs": []
    },
    {
      "cell_type": "code",
      "source": [
        "#Insertamos la columna de predicciones en el Dataframe\n",
        "df.insert(0, 'Predicciones2', y_pred)\n",
        "df"
      ],
      "metadata": {
        "id": "bvgL-YQ3cVc2"
      },
      "execution_count": null,
      "outputs": []
    },
    {
      "cell_type": "code",
      "source": [
        "#Visualizamos la gráfica comparativa entre el total real y el total predecido\n",
        "\n",
        "sns.scatterplot(x= '103_number_own_fridges', y= '268_number_fridges', color= 'blue', data=df)\n",
        "sns.scatterplot(x= '103_number_own_fridges', y= 'Predicciones2', color= 'red', data=df)"
      ],
      "metadata": {
        "id": "uzBbTaGlcZFW"
      },
      "execution_count": null,
      "outputs": []
    },
    {
      "cell_type": "code",
      "source": [
        "#Visualizamos la gráfica comparativa entre el total real y el total predecido\n",
        "\n",
        "sns.scatterplot(x= '172_supplier_frequency', y= '268_number_fridges', color= 'blue', data=df)\n",
        "sns.scatterplot(x= '172_supplier_frequency', y= 'Predicciones2', color= 'red', data=df)"
      ],
      "metadata": {
        "id": "gDWn1zdUcbNm"
      },
      "execution_count": null,
      "outputs": []
    },
    {
      "cell_type": "code",
      "source": [
        "#Visualizamos la gráfica comparativa entre el total real y el total predecido\n",
        "\n",
        "sns.scatterplot(x= '97_number_of_customers_in_store', y= '268_number_fridges', color= 'blue', data=df)\n",
        "sns.scatterplot(x= '97_number_of_customers_in_store', y= 'Predicciones2', color= 'red', data=df)"
      ],
      "metadata": {
        "id": "ZE26OCjEcdaO"
      },
      "execution_count": null,
      "outputs": []
    },
    {
      "cell_type": "code",
      "source": [
        "#Corroboramos cual es el coeficiente de Determinación de nuestro modelo\n",
        "coef_Deter=model.score(X=Vars_Indep, y=Var_Dep)\n",
        "coef_Deter"
      ],
      "metadata": {
        "id": "I7K7ABOJcg1W"
      },
      "execution_count": null,
      "outputs": []
    },
    {
      "cell_type": "code",
      "source": [
        "#Corroboramos cual es el coeficiente de Correlación de nuestro modelo\n",
        "coef_Correl=np.sqrt(coef_Deter)\n",
        "coef_Correl"
      ],
      "metadata": {
        "id": "atQwozvncjGU"
      },
      "execution_count": null,
      "outputs": []
    },
    {
      "cell_type": "markdown",
      "source": [
        "3"
      ],
      "metadata": {
        "id": "ka3bHRXldT_u"
      }
    },
    {
      "cell_type": "code",
      "source": [
        "#Se grafican mapas de dispersion de las 3 variables: '24_burnout', '2_current_permanent_employees' y '145_number_direct_competitors'\n",
        "from turtle import color\n",
        "\n",
        "sns.scatterplot(x='103_number_own_fridges', y='268_number_fridges', color='blue', data=df)\n",
        "sns.scatterplot(x='172_supplier_frequency', y='268_number_fridges', color='red', data=df)\n",
        "sns.scatterplot(x='24_burnout', y='268_number_fridges', color='yellow', data=df)"
      ],
      "metadata": {
        "id": "GTC0bw8iclyO"
      },
      "execution_count": null,
      "outputs": []
    },
    {
      "cell_type": "code",
      "source": [
        "#Declaramos las variables dependientes e independientes para la regresión lineal.\n",
        "#Vars_Indep= df[['alcohol', 'speeding', 'no_previous']]\n",
        "Vars_Indep= df[['103_number_own_fridges', '172_supplier_frequency', '24_burnout']]\n",
        "Var_Dep= df['268_number_fridges']"
      ],
      "metadata": {
        "id": "MXOj5Lsbcn6l"
      },
      "execution_count": 57,
      "outputs": []
    },
    {
      "cell_type": "code",
      "source": [
        "#Se define model como la función de regresión lineal\n",
        "from sklearn.linear_model import LinearRegression\n",
        "model= LinearRegression()"
      ],
      "metadata": {
        "id": "R0iOpnH_cp2n"
      },
      "execution_count": 58,
      "outputs": []
    },
    {
      "cell_type": "code",
      "source": [
        "#Verificamos la funcion relacionada al modelo\n",
        "type(model)"
      ],
      "metadata": {
        "id": "LyixPcDxcrp9"
      },
      "execution_count": null,
      "outputs": []
    },
    {
      "cell_type": "code",
      "source": [
        "#Ajustamos el modelo con las variables antes declaradas\n",
        "model.fit(X=Vars_Indep, y=Var_Dep)"
      ],
      "metadata": {
        "id": "beUr4IIXcuI5"
      },
      "execution_count": null,
      "outputs": []
    },
    {
      "cell_type": "code",
      "source": [
        "#Verificamos los coeficientes obtenidos para el modelo ajustado\n",
        "model.__dict__"
      ],
      "metadata": {
        "id": "8Bl4ymPXc5DW"
      },
      "execution_count": null,
      "outputs": []
    },
    {
      "cell_type": "code",
      "source": [
        "#Evaluamos la eficiencia del modelo obtenido por medio del coeficiente R^2 Determinación\n",
        "model.score(Vars_Indep,Var_Dep)"
      ],
      "metadata": {
        "id": "CR6XOMh4c7e2"
      },
      "execution_count": null,
      "outputs": []
    },
    {
      "cell_type": "code",
      "source": [
        "#Predecimos los valores de total de accidentes a partir de las variables: 'alcohol', 'speeding' y 'no_previous' \n",
        "y_pred= model.predict(X=df[['103_number_own_fridges', '172_supplier_frequency', '24_burnout']])\n",
        "y_pred"
      ],
      "metadata": {
        "id": "8l_hikU4c9um"
      },
      "execution_count": null,
      "outputs": []
    },
    {
      "cell_type": "code",
      "source": [
        "#Insertamos la columna de predicciones en el Dataframe\n",
        "df.insert(0, 'Predicciones3', y_pred)\n",
        "df"
      ],
      "metadata": {
        "id": "d57oF0wwdAdu"
      },
      "execution_count": null,
      "outputs": []
    },
    {
      "cell_type": "code",
      "source": [
        "#Visualizamos la gráfica comparativa entre el total real y el total predecido\n",
        "\n",
        "sns.scatterplot(x= '103_number_own_fridges', y= '268_number_fridges', color= 'blue', data=df)\n",
        "sns.scatterplot(x= '103_number_own_fridges', y= 'Predicciones3', color= 'red', data=df)"
      ],
      "metadata": {
        "id": "YWK91-39dDQ-"
      },
      "execution_count": null,
      "outputs": []
    },
    {
      "cell_type": "code",
      "source": [
        "#Visualizamos la gráfica comparativa entre el total real y el total predecido\n",
        "\n",
        "sns.scatterplot(x= '172_supplier_frequency', y= '268_number_fridges', color= 'blue', data=df)\n",
        "sns.scatterplot(x= '172_supplier_frequency', y= 'Predicciones3', color= 'red', data=df)"
      ],
      "metadata": {
        "id": "3LVHyUFLdF3G"
      },
      "execution_count": null,
      "outputs": []
    },
    {
      "cell_type": "code",
      "source": [
        "#Visualizamos la gráfica comparativa entre el total real y el total predecido\n",
        "\n",
        "sns.scatterplot(x= '24_burnout', y= '268_number_fridges', color= 'blue', data=df)\n",
        "sns.scatterplot(x= '24_burnout', y= 'Predicciones3', color= 'red', data=df)"
      ],
      "metadata": {
        "id": "ImkaSQqudIam"
      },
      "execution_count": null,
      "outputs": []
    },
    {
      "cell_type": "code",
      "source": [
        "#Corroboramos cual es el coeficiente de Determinación de nuestro modelo\n",
        "coef_Deter=model.score(X=Vars_Indep, y=Var_Dep)\n",
        "coef_Deter"
      ],
      "metadata": {
        "id": "WsW2tXDmdKit"
      },
      "execution_count": null,
      "outputs": []
    },
    {
      "cell_type": "code",
      "source": [
        "#Corroboramos cual es el coeficiente de Correlación de nuestro modelo\n",
        "coef_Correl=np.sqrt(coef_Deter)\n",
        "coef_Correl"
      ],
      "metadata": {
        "id": "AitnK4hDdMhu"
      },
      "execution_count": null,
      "outputs": []
    },
    {
      "cell_type": "markdown",
      "source": [
        "**Regresión logística**"
      ],
      "metadata": {
        "id": "eOv9uqmFSU0G"
      }
    },
    {
      "cell_type": "code",
      "source": [
        "#Cargar archivo csv desde equipo\n",
        "from google.colab import files\n",
        "files.upload()"
      ],
      "metadata": {
        "id": "1NROd9YfynJf"
      },
      "execution_count": null,
      "outputs": []
    },
    {
      "cell_type": "code",
      "source": [
        "#Carga desde un archivo .csv sin indice\n",
        "df= pd.read_csv('Datos_limpios_Micro_retailer_actualizado.csv')\n",
        "df.head(5)"
      ],
      "metadata": {
        "id": "ttLGQsIZyx5a"
      },
      "execution_count": null,
      "outputs": []
    },
    {
      "cell_type": "code",
      "source": [
        "#Rellenamos nulos dentro del condigo \n",
        "df=df.fillna(method='ffill')"
      ],
      "metadata": {
        "id": "MLmLTNmqy1om"
      },
      "execution_count": 72,
      "outputs": []
    },
    {
      "cell_type": "markdown",
      "source": [
        "1"
      ],
      "metadata": {
        "id": "ZKS8AyD5r5th"
      }
    },
    {
      "cell_type": "code",
      "source": [
        "#Declaramos las variables dependientes e independientes para la regresión logística.\n",
        "Vars_Indep= df[['97_number_of_customers_in_store', '317_home_deliveries', '2_current_permanent_employees']]\n",
        "Var_Dep= df['186_internet_connection']"
      ],
      "metadata": {
        "id": "d37FS_eOzuQW"
      },
      "execution_count": 73,
      "outputs": []
    },
    {
      "cell_type": "code",
      "source": [
        "#Redefinimos las variables\n",
        "X= Vars_Indep \n",
        "y= Var_Dep"
      ],
      "metadata": {
        "id": "xdSXi7HSz_dj"
      },
      "execution_count": 74,
      "outputs": []
    },
    {
      "cell_type": "code",
      "source": [
        "#Dividimos el conjunto de datos en la parte de entrenamiento y pruba:\n",
        "X_train, X_test, y_train, y_test = train_test_split(X,y, test_size=0.3, random_state=None)"
      ],
      "metadata": {
        "id": "lnk0mKho0Bvs"
      },
      "execution_count": 75,
      "outputs": []
    },
    {
      "cell_type": "code",
      "source": [
        "#Se escalan todos los datos \n",
        "escalar= StandardScaler()"
      ],
      "metadata": {
        "id": "1Q_dhoKY0DxL"
      },
      "execution_count": 76,
      "outputs": []
    },
    {
      "cell_type": "code",
      "source": [
        "#Para realizar el escalamiento de las variables \"X\" tanto de entrenamiento como de prueba \n",
        "X_train=escalar.fit_transform(X_train)\n",
        "X_test= escalar.transform(X_test)"
      ],
      "metadata": {
        "id": "zVTaEY7j0GbZ"
      },
      "execution_count": 77,
      "outputs": []
    },
    {
      "cell_type": "code",
      "source": [
        "#Definimos el algoritmo a utilizar \n",
        "from sklearn.linear_model import LogisticRegression\n",
        "algoritmo=LogisticRegression()"
      ],
      "metadata": {
        "id": "l6KIopguzxEB"
      },
      "execution_count": 78,
      "outputs": []
    },
    {
      "cell_type": "code",
      "source": [
        "#Entrenamos el modelo\n",
        "algoritmo.fit(X_train, y_train)"
      ],
      "metadata": {
        "id": "kRUvkzB_jqdL"
      },
      "execution_count": null,
      "outputs": []
    },
    {
      "cell_type": "code",
      "source": [
        "#Realizamos una predicción\n",
        "y_pred = algoritmo.predict(X_test)\n",
        "y_pred"
      ],
      "metadata": {
        "id": "PmLWuEfvmlDI"
      },
      "execution_count": null,
      "outputs": []
    },
    {
      "cell_type": "code",
      "source": [
        "#Verifico matriz de confusión\n",
        "from sklearn.metrics import confusion_matrix\n",
        "matriz = confusion_matrix(y_test, y_pred)\n",
        "print('Matriz de Confusión')\n",
        "print(matriz)"
      ],
      "metadata": {
        "id": "mD4-ZYZtmoEr"
      },
      "execution_count": null,
      "outputs": []
    },
    {
      "cell_type": "code",
      "source": [
        "#Calculo la precisión del modelo\n",
        "from sklearn.metrics import precision_score\n",
        "\n",
        "precision = precision_score(y_test, y_pred, average='binary', pos_label=\"yes\")\n",
        "print('Precision del modelo:')\n",
        "print(precision)"
      ],
      "metadata": {
        "id": "BoSiaiVamrBo"
      },
      "execution_count": null,
      "outputs": []
    },
    {
      "cell_type": "code",
      "source": [
        "#Calculo la exactitud del modelo\n",
        "from sklearn.metrics import accuracy_score\n",
        "exactitud = accuracy_score(y_test, y_pred)\n",
        "print('Exactitud del modelo:')\n",
        "print(exactitud)"
      ],
      "metadata": {
        "id": "amj9vsVWmtea"
      },
      "execution_count": null,
      "outputs": []
    },
    {
      "cell_type": "code",
      "source": [
        "#Calculo la sensibilidad del modelo\n",
        "from sklearn.metrics import recall_score\n",
        "\n",
        "sensibilidad = recall_score(y_test, y_pred, average=\"binary\", pos_label=\"yes\")\n",
        "print('Sensibilidad del modelo:')\n",
        "print(sensibilidad)"
      ],
      "metadata": {
        "id": "d6u861IYmwFb"
      },
      "execution_count": null,
      "outputs": []
    },
    {
      "cell_type": "markdown",
      "source": [
        "2"
      ],
      "metadata": {
        "id": "KBATA6pJr-Z6"
      }
    },
    {
      "cell_type": "code",
      "source": [
        "#Declaramos las variables dependientes e independientes para la regresión logística.\n",
        "Vars_Indep= df[['104_how_many_shelves_does_the_micro_retailer_have', '172_supplier_frequency', '103_number_own_fridges']]\n",
        "Var_Dep= df['20_reviews_finances_monthly']"
      ],
      "metadata": {
        "id": "YryTcrPjoOPJ"
      },
      "execution_count": 85,
      "outputs": []
    },
    {
      "cell_type": "code",
      "source": [
        "#Redefinimos las variables\n",
        "X= Vars_Indep \n",
        "y= Var_Dep"
      ],
      "metadata": {
        "id": "tD3VUl5eqNc5"
      },
      "execution_count": 86,
      "outputs": []
    },
    {
      "cell_type": "code",
      "source": [
        "#Dividimos el conjunto de datos en la parte de entrenamiento y pruba:\n",
        "X_train, X_test, y_train, y_test = train_test_split(X,y, test_size=0.3, random_state=None)"
      ],
      "metadata": {
        "id": "w9eN_XGYqV1p"
      },
      "execution_count": 87,
      "outputs": []
    },
    {
      "cell_type": "code",
      "source": [
        "#Se escalan todos los datos \n",
        "escalar= StandardScaler()"
      ],
      "metadata": {
        "id": "8OBf5P8eqrPj"
      },
      "execution_count": 88,
      "outputs": []
    },
    {
      "cell_type": "code",
      "source": [
        "#Para realizar el escalamiento de las variables \"A\" tanto de entrenamiento como de prueba \n",
        "X_train=escalar.fit_transform(X_train)\n",
        "X_test= escalar.transform(X_test)"
      ],
      "metadata": {
        "id": "ZtwHJo2uqt7z"
      },
      "execution_count": 89,
      "outputs": []
    },
    {
      "cell_type": "code",
      "source": [
        "#Definimos el algoritmo a utilizar \n",
        "from sklearn.linear_model import LogisticRegression\n",
        "algoritmo=LogisticRegression()"
      ],
      "metadata": {
        "id": "9As1mCxiqy_B"
      },
      "execution_count": 90,
      "outputs": []
    },
    {
      "cell_type": "code",
      "source": [
        "#Entrenamos el modelo\n",
        "algoritmo.fit(X_train, y_train)"
      ],
      "metadata": {
        "id": "laitxCgnq1xY"
      },
      "execution_count": null,
      "outputs": []
    },
    {
      "cell_type": "code",
      "source": [
        "#Realizamos una predicción\n",
        "y_pred = algoritmo.predict(X_test)\n",
        "y_pred"
      ],
      "metadata": {
        "id": "SmwaCFpfq6vy"
      },
      "execution_count": null,
      "outputs": []
    },
    {
      "cell_type": "code",
      "source": [
        "#Verifico matriz de confusión\n",
        "from sklearn.metrics import confusion_matrix\n",
        "matriz = confusion_matrix(y_test, y_pred)\n",
        "print('Matriz de Confusión')\n",
        "print(matriz)"
      ],
      "metadata": {
        "id": "xF8yO8xRrAjS"
      },
      "execution_count": null,
      "outputs": []
    },
    {
      "cell_type": "code",
      "source": [
        "#Calculo la precisión del modelo\n",
        "from sklearn.metrics import precision_score\n",
        "\n",
        "precision = precision_score(y_test, y_pred, average='binary', pos_label=\"yes\")\n",
        "print('Precision del modelo:')\n",
        "print(precision)"
      ],
      "metadata": {
        "id": "W0p-G1l8rFtw"
      },
      "execution_count": null,
      "outputs": []
    },
    {
      "cell_type": "code",
      "source": [
        "#Calculo la exactitud del modelo\n",
        "from sklearn.metrics import accuracy_score\n",
        "exactitud = accuracy_score(y_test, y_pred)\n",
        "print('Exactitud del modelo:')\n",
        "print(exactitud)"
      ],
      "metadata": {
        "id": "Q_SL4OeJrKBh"
      },
      "execution_count": null,
      "outputs": []
    },
    {
      "cell_type": "code",
      "source": [
        "#Calculo la sensibilidad del modelo\n",
        "from sklearn.metrics import recall_score\n",
        "\n",
        "sensibilidad = recall_score(y_test, y_pred, average=\"binary\", pos_label=\"yes\")\n",
        "print('Sensibilidad del modelo:')\n",
        "print(sensibilidad)"
      ],
      "metadata": {
        "id": "sjYJFfpGrRKD"
      },
      "execution_count": null,
      "outputs": []
    },
    {
      "cell_type": "markdown",
      "source": [
        "3"
      ],
      "metadata": {
        "id": "OQVLoGePsddI"
      }
    },
    {
      "cell_type": "code",
      "source": [
        "#Declaramos las variables dependientes e independientes para la regresión logística.\n",
        "Vars_Indep= df[['145_number_direct_competitors', '315_frequency_topups', '268_number_fridges']]\n",
        "Var_Dep= df['310_burnout']"
      ],
      "metadata": {
        "id": "OPg1dyBxsfoo"
      },
      "execution_count": 97,
      "outputs": []
    },
    {
      "cell_type": "code",
      "source": [
        "#Redefinimos las variables\n",
        "X= Vars_Indep \n",
        "y= Var_Dep"
      ],
      "metadata": {
        "id": "_mDBQAgftb8e"
      },
      "execution_count": 98,
      "outputs": []
    },
    {
      "cell_type": "code",
      "source": [
        "#Dividimos el conjunto de datos en la parte de entrenamiento y pruba:\n",
        "X_train, X_test, y_train, y_test = train_test_split(X,y, test_size=0.3, random_state=None)"
      ],
      "metadata": {
        "id": "XJ1Ll2xKtdeJ"
      },
      "execution_count": 99,
      "outputs": []
    },
    {
      "cell_type": "code",
      "source": [
        "#Se escalan todos los datos \n",
        "escalar= StandardScaler()"
      ],
      "metadata": {
        "id": "yOmNRP7qte7j"
      },
      "execution_count": 100,
      "outputs": []
    },
    {
      "cell_type": "code",
      "source": [
        "#Para realizar el escalamiento de las variables \"X\" tanto de entrenamiento como de prueba \n",
        "X_train=escalar.fit_transform(X_train)\n",
        "X_test= escalar.transform(X_test)"
      ],
      "metadata": {
        "id": "HFco7-8uthA6"
      },
      "execution_count": 101,
      "outputs": []
    },
    {
      "cell_type": "code",
      "source": [
        "#Definimos el algoritmo a utilizar \n",
        "from sklearn.linear_model import LogisticRegression\n",
        "algoritmo=LogisticRegression()"
      ],
      "metadata": {
        "id": "pk1AuaG8tidZ"
      },
      "execution_count": 102,
      "outputs": []
    },
    {
      "cell_type": "code",
      "source": [
        "#Entrenamos el modelo \n",
        "algoritmo.fit(X_train, y_train)"
      ],
      "metadata": {
        "id": "1mv4BLgLtkOa"
      },
      "execution_count": null,
      "outputs": []
    },
    {
      "cell_type": "code",
      "source": [
        "#Realiamos una prediccion \n",
        "y_pred=algoritmo.predict(X_test)\n",
        "#y_pred_df = pd.DataFrame(y_pred)\n",
        "y_pred"
      ],
      "metadata": {
        "id": "_j32J_vYtmzB"
      },
      "execution_count": null,
      "outputs": []
    },
    {
      "cell_type": "code",
      "source": [
        "#Verifico matriz de confusión\n",
        "from sklearn.metrics import confusion_matrix\n",
        "matriz = confusion_matrix(y_test, y_pred)\n",
        "print('Matriz de Confusión')\n",
        "print(matriz)"
      ],
      "metadata": {
        "id": "2EKj2hO9t1xS"
      },
      "execution_count": null,
      "outputs": []
    },
    {
      "cell_type": "code",
      "source": [
        "#Calculo la precisión del modelo\n",
        "from sklearn.metrics import precision_score\n",
        "\n",
        "precision = precision_score(y_test, y_pred, average='binary', pos_label=\"yes\")\n",
        "print('Precision del modelo:')\n",
        "print(precision)"
      ],
      "metadata": {
        "id": "31ohnnozt6FR"
      },
      "execution_count": null,
      "outputs": []
    },
    {
      "cell_type": "code",
      "source": [
        "#Calculo la exactitud del modelo\n",
        "from sklearn.metrics import accuracy_score\n",
        "exactitud = accuracy_score(y_test, y_pred)\n",
        "print('Exactitud del modelo:')\n",
        "print(exactitud)"
      ],
      "metadata": {
        "id": "VKqViReLt9MR"
      },
      "execution_count": null,
      "outputs": []
    },
    {
      "cell_type": "code",
      "source": [
        "#Calculo la sensibilidad del modelo\n",
        "from sklearn.metrics import recall_score\n",
        "\n",
        "sensibilidad = recall_score(y_test, y_pred, average=\"binary\", pos_label=\"yes\")\n",
        "print('Sensibilidad del modelo:')\n",
        "print(sensibilidad)"
      ],
      "metadata": {
        "id": "_uJWp3GluA1r"
      },
      "execution_count": null,
      "outputs": []
    }
  ]
}